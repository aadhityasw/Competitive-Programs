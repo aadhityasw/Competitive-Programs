{
 "cells": [
  {
   "cell_type": "markdown",
   "metadata": {},
   "source": [
    "# Training\n",
    "As the football coach at your local school, you have been tasked with picking a team of exactly P students to represent your school. There are N students for you to pick from. The i-th student has a skill rating Si, which is a positive integer indicating how skilled they are.<br><br>\n",
    "\n",
    "You have decided that a team is fair if it has exactly P students on it and they all have the same skill rating. That way, everyone plays as a team. Initially, it might not be possible to pick a fair team, so you will give some of the students one-on-one coaching. It takes one hour of coaching to increase the skill rating of any student by 1.<br><br>\n",
    "\n",
    "The competition season is starting very soon (in fact, the first match has already started!), so you'd like to find the minimum number of hours of coaching you need to give before you are able to pick a fair team.\n"
   ]
  },
  {
   "cell_type": "code",
   "execution_count": 8,
   "metadata": {},
   "outputs": [
    {
     "name": "stdin",
     "output_type": "stream",
     "text": [
      " 1\n",
      " 4 3\n",
      " 1 2 3 4\n"
     ]
    },
    {
     "name": "stdout",
     "output_type": "stream",
     "text": [
      "3\n"
     ]
    }
   ],
   "source": [
    "test = int(input())\n",
    "ans = []\n",
    "for case in range(test) :\n",
    "    [n, p] = list(map(int, input().split(' ')))\n",
    "    arr = list(map(int, input().split(' ')))\n",
    "    arr.sort(reverse = True)\n",
    "    diff = {}\n",
    "    summ = {}\n",
    "    for i in range(n-p+1) :\n",
    "        if arr[i] not in diff :\n",
    "            diff[arr[i]] = []\n",
    "            for j in range(i, n) :\n",
    "                diff[arr[i]].append(arr[i]-arr[j])\n",
    "            diff[arr[i]].sort()\n",
    "            summ[arr[i]] = 0\n",
    "            for k in range(p) :\n",
    "                summ[arr[i]] += diff[arr[i]][k]\n",
    "    ans.append(min(list(summ.values())))\n",
    "for a in ans :\n",
    "    print(a)"
   ]
  },
  {
   "cell_type": "code",
   "execution_count": null,
   "metadata": {},
   "outputs": [],
   "source": []
  }
 ],
 "metadata": {
  "kernelspec": {
   "display_name": "Python 3",
   "language": "python",
   "name": "python3"
  },
  "language_info": {
   "codemirror_mode": {
    "name": "ipython",
    "version": 3
   },
   "file_extension": ".py",
   "mimetype": "text/x-python",
   "name": "python",
   "nbconvert_exporter": "python",
   "pygments_lexer": "ipython3",
   "version": "3.6.8"
  }
 },
 "nbformat": 4,
 "nbformat_minor": 2
}
