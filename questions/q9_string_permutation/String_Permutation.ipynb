{
 "cells": [
  {
   "cell_type": "markdown",
   "metadata": {},
   "source": [
    "# String Permutation\n",
    "Write a program to print all permutations of a given string."
   ]
  },
  {
   "cell_type": "code",
   "execution_count": 4,
   "metadata": {},
   "outputs": [
    {
     "name": "stdin",
     "output_type": "stream",
     "text": [
      "Enter a string :  asd\n"
     ]
    },
    {
     "name": "stdout",
     "output_type": "stream",
     "text": [
      "asd\n",
      "ads\n",
      "sad\n",
      "sda\n",
      "dsa\n",
      "das\n"
     ]
    }
   ],
   "source": [
    "def permutation(word, l, r) :\n",
    "    if l == r :\n",
    "        print(''.join(word))\n",
    "    else :\n",
    "        for i in range(l, r+1) :\n",
    "            word[l], word[i] = word[i], word[l]\n",
    "            permutation(word, l+1, r)\n",
    "            word[i], word[l] = word[l], word[i]\n",
    "    return\n",
    "\n",
    "word = input('Enter a string : ')\n",
    "permutation(list(word), 0, len(word)-1)"
   ]
  },
  {
   "cell_type": "code",
   "execution_count": null,
   "metadata": {},
   "outputs": [],
   "source": []
  }
 ],
 "metadata": {
  "kernelspec": {
   "display_name": "Python 3",
   "language": "python",
   "name": "python3"
  },
  "language_info": {
   "codemirror_mode": {
    "name": "ipython",
    "version": 3
   },
   "file_extension": ".py",
   "mimetype": "text/x-python",
   "name": "python",
   "nbconvert_exporter": "python",
   "pygments_lexer": "ipython3",
   "version": "3.6.8"
  }
 },
 "nbformat": 4,
 "nbformat_minor": 2
}
