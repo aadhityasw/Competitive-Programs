{
 "cells": [
  {
   "cell_type": "markdown",
   "metadata": {},
   "source": [
    "# Sequence of Sequence\n",
    "Given two integers m & n, find the number of possible sequences of length n such that each of the next element is greater than or equal to twice of the previous element but less than or equal to m."
   ]
  },
  {
   "cell_type": "code",
   "execution_count": 3,
   "metadata": {},
   "outputs": [
    {
     "name": "stdin",
     "output_type": "stream",
     "text": [
      " 1\n",
      " 12 1\n"
     ]
    }
   ],
   "source": [
    "def sequence(m, n, arr, level) :\n",
    "    if level == n-1 :\n",
    "        if arr[-1] <= m :\n",
    "            return(m-arr[-1]+1)\n",
    "    else :\n",
    "        if level != 0 :\n",
    "            arr[level] = 2*arr[level-1]\n",
    "        a = arr[level]\n",
    "        while arr[level]*(2**())\n",
    "        \n",
    "\n",
    "test = int(input())\n",
    "for cases in range(test) :\n",
    "    [m, n] = list(map(int, input().strip().split(' ')))\n",
    "    arr = [0]*n\n",
    "    arr[0] = 1\n",
    "    for i in range(1, n) :\n",
    "        arr[i] = 2*arr[i-1]\n",
    "    count = sequence(m, n, arr, 1)\n",
    "    print(count)"
   ]
  },
  {
   "cell_type": "code",
   "execution_count": null,
   "metadata": {},
   "outputs": [],
   "source": []
  }
 ],
 "metadata": {
  "kernelspec": {
   "display_name": "Python 3",
   "language": "python",
   "name": "python3"
  },
  "language_info": {
   "codemirror_mode": {
    "name": "ipython",
    "version": 3
   },
   "file_extension": ".py",
   "mimetype": "text/x-python",
   "name": "python",
   "nbconvert_exporter": "python",
   "pygments_lexer": "ipython3",
   "version": "3.6.8"
  }
 },
 "nbformat": 4,
 "nbformat_minor": 2
}